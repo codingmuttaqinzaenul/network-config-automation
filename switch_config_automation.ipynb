{
 "cells": [
  {
   "cell_type": "code",
   "metadata": {},
   "source": [
    "# Import Packages\n",
    "import time\n",
    "import socket\n",
    "import paramiko\n",
    "import pandas as pd\n",
    "from pathlib import Path\n",
    "from getpass import getpass\n",
    "\n",
    "# SSH Connection Configuration\n",
    "ssh_port = 22\n",
    "use_enable = True"
   ],
   "outputs": [],
   "execution_count": null
  },
  {
   "cell_type": "code",
   "metadata": {},
   "source": [
    "# Input username and password (credential) for remote access to switch\n",
    "username =  input(\"Masukkan username switch : \")\n",
    "password = getpass(\"Masukkan password switch : \")\n",
    "enable_secret = getpass(\"Masukkan enable secret switch : \")"
   ],
   "outputs": [],
   "execution_count": null
  },
  {
   "cell_type": "code",
   "metadata": {},
   "source": [
    "# Function for configuring\n",
    "def ssh_commands(ip, port, username, password, commands, use_enable, enable_secret=''):\n",
    "    client = paramiko.SSHClient()\n",
    "    client.set_missing_host_key_policy(paramiko.AutoAddPolicy())\n",
    "    \n",
    "    try:\n",
    "        print(f\"\\n🔹 Menghubungkan ke switch {ip} ...\")        \n",
    "        client.connect(ip, port=port, username=username, password=password, \n",
    "                       look_for_keys=False, allow_agent=False, timeout=10)\n",
    "        \n",
    "        remote_connection = client.invoke_shell()\n",
    "        time.sleep(2)\n",
    "        remote_connection.recv(65535)  # Flush buffer        \n",
    "        print(f\"✅ Koneksi ke {ip} berhasil!\")\n",
    "\n",
    "         # Mengirimkan perintah ke switch\n",
    "        if use_enable:\n",
    "            print(f\"\\n🔹 Masuk ke mode enable ...\")\n",
    "            remote_connection.send('enable\\n')\n",
    "            time.sleep(2)\n",
    "            remote_connection.send(enable_secret + '\\n')\n",
    "            time.sleep(2)\n",
    "            remote_connection.recv(65535)\n",
    "            print(f\"✅ Berhasil masuk ke mode enable!\")\n",
    "    \n",
    "        for command in commands:\n",
    "            print(f\"🔄 Menjalankan perintah: {command}\")\n",
    "            remote_connection.send(command + '\\n')\n",
    "            time.sleep(2)\n",
    "            output = remote_connection.recv(65535).decode('ascii', errors='ignore')\n",
    "            print(output)\n",
    "\n",
    "    except (paramiko.ssh_exception.NoValidConnectionsError, socket.timeout):\n",
    "        print(f\"❌ Gagal terhubung ke {ip}: Port tidak terbuka atau timeout.\")\n",
    "\n",
    "    except paramiko.AuthenticationException:\n",
    "        print(f\"❌ Autentikasi gagal ke {ip}: Periksa username/password.\")\n",
    "\n",
    "    except Exception as e:\n",
    "        print(f\"❌ Terjadi kesalahan pada {ip}: {e}\")\n",
    "\n",
    "    finally:\n",
    "        client.close()\n",
    "        print(f\"🔻 Koneksi ke {ip} ditutup.\\n\")"
   ],
   "outputs": [],
   "execution_count": null
  },
  {
   "cell_type": "code",
   "metadata": {},
   "source": [
    "# Read switch configuration map file\n",
    "file_name = 'switch_config_map.xlsx'\n",
    "switch_merk = 'cisco'\n",
    "\n",
    "file_path = Path.cwd()\n",
    "file_path = rf'{file_path}\\data\\unit_A\\{switch_merk}\\{file_name}'\n",
    "df_switch = pd.read_excel(file_path)\n",
    "df_switch"
   ],
   "outputs": [],
   "execution_count": null
  },
  {
   "cell_type": "code",
   "metadata": {},
   "source": [
    "# Executing scripts for configuring\n",
    "for _, row in df_switch.iterrows():\n",
    "    ip = row[\"IP\"]\n",
    "    command_row = \"Commands_1\"\n",
    "    commands = row[command_row].split('\\n') if pd.notna(row[command_row]) else []\n",
    "\n",
    "    if not commands:\n",
    "        print(f\"⚠️ Tidak ada perintah untuk {ip}, melewati...\")\n",
    "        continue\n",
    "\n",
    "    ssh_commands(ip=ip, port=ssh_port, username=username, password=password, commands=commands, use_enable=use_enable, enable_secret=enable_secret)\n",
    "    # break"
   ],
   "outputs": [],
   "execution_count": null
  }
 ],
 "metadata": {
  "kernelspec": {
   "display_name": "shared",
   "language": "python",
   "name": "python3"
  },
  "language_info": {
   "codemirror_mode": {
    "name": "ipython",
    "version": 3
   },
   "file_extension": ".py",
   "mimetype": "text/x-python",
   "name": "python",
   "nbconvert_exporter": "python",
   "pygments_lexer": "ipython3",
   "version": "3.10.13"
  }
 },
 "nbformat": 4,
 "nbformat_minor": 2
}
